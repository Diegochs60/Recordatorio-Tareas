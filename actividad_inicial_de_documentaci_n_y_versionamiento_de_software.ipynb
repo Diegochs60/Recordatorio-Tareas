{
  "nbformat": 4,
  "nbformat_minor": 0,
  "metadata": {
    "colab": {
      "provenance": [],
      "authorship_tag": "ABX9TyM1m2ZOtCPKUG3it02zFdgy",
      "include_colab_link": true
    },
    "kernelspec": {
      "name": "python3",
      "display_name": "Python 3"
    },
    "language_info": {
      "name": "python"
    }
  },
  "cells": [
    {
      "cell_type": "markdown",
      "metadata": {
        "id": "view-in-github",
        "colab_type": "text"
      },
      "source": [
        "<a href=\"https://colab.research.google.com/github/Diegochs60/Recordatorio-Tareas/blob/master/actividad_inicial_de_documentaci_n_y_versionamiento_de_software.ipynb\" target=\"_parent\"><img src=\"https://colab.research.google.com/assets/colab-badge.svg\" alt=\"Open In Colab\"/></a>"
      ]
    },
    {
      "cell_type": "code",
      "execution_count": null,
      "metadata": {
        "colab": {
          "base_uri": "https://localhost:8080/"
        },
        "id": "i5TMXVCIfQgM",
        "outputId": "e40408ee-74ec-4608-d8ea-4afda645b822"
      },
      "outputs": [
        {
          "output_type": "stream",
          "name": "stdout",
          "text": [
            "Ingrese un valor natural (índice/posición): 2\n",
            "El valor en la posición 2 de la serie es: 7\n"
          ]
        }
      ],
      "source": [
        "def calcular_valor_en_posicion(n):\n",
        "    if n % 2 == 0:\n",
        "        # Si n es par, el valor en la posición n es 7 * (n // 2)\n",
        "        return 7 * (n // 2)\n",
        "    else:\n",
        "        # Si n es impar, el valor en la posición n es -2 * ((n - 1) // 2) + 1\n",
        "        return -2 * ((n - 1) // 2) + 1\n",
        "\n",
        "# Pedir al usuario que ingrese un valor natural\n",
        "n = int(input(\"Ingrese un valor natural (índice/posición): \"))\n",
        "\n",
        "# Calcular el valor en la posición n usando la función definida\n",
        "valor_en_posicion = calcular_valor_en_posicion(n)\n",
        "\n",
        "# Imprimir el valor en la posición n\n",
        "print(f\"El valor en la posición {n} de la serie es: {valor_en_posicion}\")"
      ]
    }
  ]
}